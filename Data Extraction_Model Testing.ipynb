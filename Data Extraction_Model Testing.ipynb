{
 "cells": [
  {
   "cell_type": "code",
   "execution_count": 92,
   "id": "5cfde888",
   "metadata": {},
   "outputs": [],
   "source": [
    "# Kor!\n",
    "from kor.extraction import create_extraction_chain\n",
    "from kor.nodes import Object, Text, Number\n",
    "\n",
    "# LangChain Models\n",
    "from langchain.chat_models import ChatOpenAI\n",
    "from langchain.llms import OpenAI\n",
    "\n",
    "# Standard Helpers\n",
    "import pandas as pd\n",
    "import requests\n",
    "import time\n",
    "import json\n",
    "from datetime import datetime\n",
    "\n",
    "# Text Helpers\n",
    "from bs4 import BeautifulSoup\n",
    "from markdownify import markdownify as md\n",
    "\n",
    "# For token counting\n",
    "from langchain.callbacks import get_openai_callback\n",
    "\n",
    "def printOutput(output):\n",
    "    print(json.dumps(output, indent=3))"
   ]
  },
  {
   "cell_type": "code",
   "execution_count": 9,
   "id": "37d66699",
   "metadata": {},
   "outputs": [],
   "source": [
    "# It's better to do this an environment variable but putting it in plain text for clarity\n",
    "openai_api_key = '------'"
   ]
  },
  {
   "cell_type": "code",
   "execution_count": 10,
   "id": "d232475e",
   "metadata": {},
   "outputs": [],
   "source": [
    "llm = ChatOpenAI(\n",
    "#     model_name=\"gpt-3.5-turbo\", # Cheaper but less reliable\n",
    "    model_name=\"gpt-3.5-turbo\",\n",
    "    temperature=0,\n",
    "    max_tokens=2000,\n",
    "    openai_api_key=openai_api_key\n",
    ")"
   ]
  },
  {
   "cell_type": "markdown",
   "id": "9c17377e",
   "metadata": {},
   "source": [
    "### Working With Lists for training Cvent Test Input\n",
    "\n",
    "You can also extract lists as well.\n",
    "\n",
    "Note: Check out how I have a nested object. The 'parts' object is in the 'cars_schema'"
   ]
  },
  {
   "cell_type": "code",
   "execution_count": 16,
   "id": "70b5a6f1",
   "metadata": {},
   "outputs": [],
   "source": [
    "hardware_parts = Object(\n",
    "    id=\"hardware_parts\",\n",
    "    description=\"Multiple hardwares for onsite event requirements\",\n",
    "    attributes=[\n",
    "        Text(id=\"hardwares\", description=\"The name of the part\")\n",
    "    ],\n",
    "    examples=[\n",
    "        (\n",
    "            \"Hardwares with Quantities as agreed upon are: iPad 9.7inch - 7, Stylish Aluminum Table Stand - 7\",\n",
    "            [\n",
    "                [{\"item\": \"iPad 9.7inch\", \"quantity\": 7}, \n",
    "                 {\"item\": \"Stylish Aluminum Table Stand\", \"quantity\": 7}]\n",
    "            ],\n",
    "        )\n",
    "    ]\n",
    ")\n",
    "\n",
    "event_schema = Object(\n",
    "    id=\"event\",\n",
    "    description=\"Onsite requirements for an event\",\n",
    "    examples=[\n",
    "        (\n",
    "            \"Event Name is Cvent 2023 Test event,Date/time Hardline will be dropped - 06/10/2023 9:00 AM EST, Date/time Event ended - 06/20/2023 4:00 PM EST, Cvent Staff is Abhishek Rai, Cvent Staff Number is +123456344, Client Staff is Pranavesh, Client Staff Number is +12344464. Hardwares with Quantities as agreed upon are:iPad 9.7inch - 7, Stylish Aluminum Table Stand - 7\",\n",
    "            [\n",
    "                {\"name\": \"Cvent 2023 Test event\", \n",
    "                 \"date/time\": {\"hardline dropped\": \"06/10/2023 9:00 AM EST\", \"event ended\": \"06/20/2023 4:00 PM EST\"}, \n",
    "                 \"staff\": {\"Cvent\": \n",
    "                           {\"name\": \"Abhishek Rai\", \"number\": \"+123456344\"}, \n",
    "                           \"Client\": {\"name\": \"Pranavesh\", \"number\": \"+12344464\"}}, \n",
    "                 \"hardware_parts\": [{\"item\": \"iPad 9.7inch\", \"quantity\": 7}, \n",
    "                               {\"item\": \"Stylish Aluminum Table Stand\", \"quantity\": 7}]}\n",
    "            ],\n",
    "        )\n",
    "    ],\n",
    "    attributes=[\n",
    "        Text(\n",
    "            id=\"name\",\n",
    "            description=\"name of the client's event\"\n",
    "        ),\n",
    "        Text(\n",
    "            id=\"drop_off_date\",\n",
    "            description=\"Hardware dropp off date\"\n",
    "        ),\n",
    "        Text(\n",
    "            id=\"drop_off_time\",\n",
    "            description=\"Hardware dropp off time\"\n",
    "        ),\n",
    "        Text(\n",
    "            id=\"pick_up_date\",\n",
    "            description=\"Hardware pickup date\"\n",
    "        ),\n",
    "        Text(\n",
    "            id=\"pick_up_time\",\n",
    "            description=\"Hardware pickup time\"\n",
    "        ),\n",
    "        Text(\n",
    "            id=\"cvent_onsite_contact_name\",\n",
    "            description=\"Cvents technitian representative\"\n",
    "        ),\n",
    "        Text(\n",
    "            id=\"cvent_onsite_contact_number\",\n",
    "            description=\"Cvents representative contact number\"\n",
    "        ),\n",
    "        Text(\n",
    "            id=\"cvent_client_contact_name\",\n",
    "            description=\"Clients Name\"\n",
    "        ),\n",
    "        Text(\n",
    "            id=\"cvent_client_contact_number\",\n",
    "            description=\"Cvents client contact number\"\n",
    "        ),\n",
    "        \n",
    "        hardware_parts\n",
    "    ]\n",
    ")"
   ]
  },
  {
   "cell_type": "code",
   "execution_count": 23,
   "id": "ca9144c1",
   "metadata": {},
   "outputs": [
    {
     "name": "stdout",
     "output_type": "stream",
     "text": [
      "{}\n"
     ]
    }
   ],
   "source": [
    "# To do nested objects you need to specify encoder_or_encoder_class=\"json\"\n",
    "text = \"Event Name is Cvent 2023 Test event,Date/time Hardline will be dropped - 06/10/2023 9:00 AM EST, Date/time Event ended - 06/20/2023 4:00 PM EST, Cvent Staff is Abhishek Rai, Cvent Staff Number is +123456344, Client Staff is Pranavesh, Client Staff Number is +12344464. Hardwares with Quantities as agreed upon are:iPad 9.7inch - 7, Stylish Aluminum Table Stand - 7\"\n",
    "# Changed the encoder to json\n",
    "chain = create_extraction_chain(llm, cars_schema, encoder_or_encoder_class=\"json\")\n",
    "output = chain.predict_and_parse(text=text)['data']\n",
    "\n",
    "printOutput(output)"
   ]
  },
  {
   "cell_type": "code",
   "execution_count": 21,
   "id": "fb401ff2",
   "metadata": {},
   "outputs": [
    {
     "data": {
      "text/plain": [
       "{'data': {},\n",
       " 'raw': '<json>{\"event\": {\"name\": \"Cvent 2023 Test event\", \"date/time\": {\"hardline dropped\": \"06/10/2023 9:00 AM EST\", \"event ended\": \"06/20/2023 4:00 PM EST\"}, \"staff\": {\"Cvent\": {\"name\": \"Abhishek Rai\", \"number\": \"+123456344\"}, \"Client\": {\"name\": \"Pranavesh\", \"number\": \"+12344464\"}}, \"hardwares\": [{\"item\": \"iPad 9.7inch\", \"quantity\": 7}, {\"item\": \"Stylish Aluminum Table Stand\", \"quantity\": 7}]}}</json>',\n",
       " 'errors': [kor.exceptions.ParseError('The LLM has returned structured data which does not match the expected schema. Providing additional examples may help improve the parse.')],\n",
       " 'validated_data': {}}"
      ]
     },
     "execution_count": 21,
     "metadata": {},
     "output_type": "execute_result"
    }
   ],
   "source": [
    "output\n"
   ]
  },
  {
   "cell_type": "code",
   "execution_count": 24,
   "id": "4b669594",
   "metadata": {},
   "outputs": [
    {
     "data": {
      "text/plain": [
       "{'name': 'Cvent 2023 Test event',\n",
       " 'date/time': {'hardline dropped': '06/10/2023 9:00 AM EST',\n",
       "  'event ended': '06/20/2023 4:00 PM EST'},\n",
       " 'staff': {'Cvent': {'name': 'Abhishek Rai', 'number': '+123456344'},\n",
       "  'Client': {'name': 'Pranavesh', 'number': '+12344464'}},\n",
       " 'hardwares': [{'item': 'iPad 9.7inch', 'quantity': 7},\n",
       "  {'item': 'Stylish Aluminum Table Stand', 'quantity': 7}]}"
      ]
     },
     "execution_count": 24,
     "metadata": {},
     "output_type": "execute_result"
    }
   ],
   "source": [
    "\n",
    "{\"name\": \"Cvent 2023 Test event\", \n",
    " \"date/time\": {\"hardline dropped\": \"06/10/2023 9:00 AM EST\", \"event ended\": \"06/20/2023 4:00 PM EST\"}, \n",
    " \"staff\": {\"Cvent\": {\"name\": \"Abhishek Rai\", \"number\": \"+123456344\"}, \"Client\": {\"name\": \"Pranavesh\", \"number\": \"+12344464\"}}, \n",
    " \"hardwares\": [{\"item\": \"iPad 9.7inch\", \"quantity\": 7}, {\"item\": \"Stylish Aluminum Table Stand\", \"quantity\": 7}]}"
   ]
  },
  {
   "cell_type": "code",
   "execution_count": 25,
   "id": "62a6119e",
   "metadata": {},
   "outputs": [],
   "source": [
    "hardware_items = Object(\n",
    "    id=\"hardware_items\",\n",
    "    description=\"Information about hardwares\",\n",
    "    \n",
    "    # Notice I put multiple fields to pull out different attributes\n",
    "    attributes=[\n",
    "        Text(\n",
    "            id=\"item\",\n",
    "            description=\"Name of hardware\"\n",
    "        ),\n",
    "        Number(\n",
    "            id=\"quantity\",\n",
    "            description=\"quantity of hardware\"\n",
    "        )\n",
    "    ],\n",
    "    examples=[\n",
    "        (\n",
    "            \"Hardwares with Quantities as agreed upon are: iPad 9.7inch - 7, Stylish Aluminum Table Stand - 7\",\n",
    "            [\n",
    "                {\"item\": \"iPad 9.7inch\", \"quantity\" : 7},\n",
    "                {\"item\": \"Stylish Aluminum Table Stand\",  \"quantity\" : 7},\n",
    "            ],\n",
    "        )\n",
    "    ]\n",
    ")\n"
   ]
  },
  {
   "cell_type": "code",
   "execution_count": 29,
   "id": "e64e3b0f",
   "metadata": {},
   "outputs": [
    {
     "name": "stdout",
     "output_type": "stream",
     "text": [
      "{\n",
      "   \"hardware_items\": [\n",
      "      {\n",
      "         \"item\": \"Macbook 14inch\",\n",
      "         \"quantity\": 7\n",
      "      },\n",
      "      {\n",
      "         \"item\": \"Stylish BrassN Table Stand\",\n",
      "         \"quantity\": 7\n",
      "      }\n",
      "   ]\n",
      "}\n"
     ]
    }
   ],
   "source": [
    "# To do nested objects you need to specify encoder_or_encoder_class=\"json\"\n",
    "text = \"Hardwares with Quantities as agreed upon are: Macbook 14inch - 7, Stylish BrassN Table Stand - 7\"\n",
    "# Changed the encoder to json\n",
    "chain = create_extraction_chain(llm, hardware_items, encoder_or_encoder_class=\"json\")\n",
    "output = chain.predict_and_parse(text=text)['data']\n",
    "\n",
    "printOutput(output)"
   ]
  },
  {
   "cell_type": "code",
   "execution_count": 30,
   "id": "9231c764",
   "metadata": {},
   "outputs": [],
   "source": [
    "staff_details = Object(\n",
    "    id=\"staff_details\",\n",
    "    description=\"Information about staff client & cvent\",\n",
    "    \n",
    "    # Notice I put multiple fields to pull out different attributes\n",
    "    attributes=[\n",
    "        Text(\n",
    "            id=\"staff_type\",\n",
    "            description=\"Staff type\"\n",
    "        ),\n",
    "        Text(\n",
    "            id=\"name\",\n",
    "            description=\"Name of staff\"\n",
    "        ),\n",
    "        Text(\n",
    "            id=\"number\",\n",
    "            description=\"contact number of staff\"\n",
    "        )\n",
    "    ],\n",
    "    examples=[\n",
    "        (\n",
    "            \"Cvent Staff is Abhishek Rai, Cvent Staff Number is +12344344, Client Staff is Pranavesh, Client Staff Number is +12344464\",\n",
    "            [\n",
    "                {'staff_type':'cvent','name': 'Abhishek Rai', 'number': '+12344344'},\n",
    "                {'staff_type':'client','name': 'Pranavesh', 'number': '+12344464'},\n",
    "            ],\n",
    "        )\n",
    "    ]\n",
    ")\n"
   ]
  },
  {
   "cell_type": "code",
   "execution_count": 31,
   "id": "34f32f55",
   "metadata": {},
   "outputs": [
    {
     "name": "stdout",
     "output_type": "stream",
     "text": [
      "{\n",
      "   \"staff_details\": [\n",
      "      {\n",
      "         \"name\": \"Abhishek Rai\",\n",
      "         \"number\": \"+12344344\",\n",
      "         \"staff_type\": \"cvent\"\n",
      "      },\n",
      "      {\n",
      "         \"name\": \"Pranavesh\",\n",
      "         \"number\": \"+12344464\",\n",
      "         \"staff_type\": \"client\"\n",
      "      }\n",
      "   ]\n",
      "}\n"
     ]
    }
   ],
   "source": [
    "# To do nested objects you need to specify encoder_or_encoder_class=\"json\"\n",
    "text = \"Cvent Staff is Abhishek Rai, Cvent Staff Number is +12344344, Client Staff is Pranavesh, Client Staff Number is +12344464\"\n",
    "# Changed the encoder to json\n",
    "chain = create_extraction_chain(llm, staff_details, encoder_or_encoder_class=\"json\")\n",
    "output = chain.predict_and_parse(text=text)['data']\n",
    "\n",
    "printOutput(output)"
   ]
  },
  {
   "cell_type": "code",
   "execution_count": 32,
   "id": "721eb1df",
   "metadata": {},
   "outputs": [],
   "source": [
    "date_time_objects = Object(\n",
    "    id=\"date_time_objects\",\n",
    "    description=\"Information about pickup/drop date & times\",\n",
    "    \n",
    "    # Notice I put multiple fields to pull out different attributes\n",
    "    attributes=[\n",
    "        Text(\n",
    "            id=\"pick_up_type\",\n",
    "            description=\"Drop/pickup type\"\n",
    "        ),\n",
    "        Text(\n",
    "            id=\"date\",\n",
    "            description=\"Drop/pickup date\"\n",
    "        ),\n",
    "        Text(\n",
    "            id=\"time\",\n",
    "            description=\"Drop/pickup time\"\n",
    "        )\n",
    "    ],\n",
    "    examples=[\n",
    "        (\n",
    "            \"Date/time Hardline will be dropped - 06/10/2023 9:00 AM EST, Date/time Event ended - 06/20/2023 4:00 PM EST\",\n",
    "            [\n",
    "                {'pick_up_type':'Dropoff','date': '06/10/2023', 'time': '9:00 AM EST'},\n",
    "                {'pick_up_type':'Pickup','date': '06/20/2023', 'time': '4:00 PM EST'},\n",
    "            ],\n",
    "        )\n",
    "    ]\n",
    ")\n"
   ]
  },
  {
   "cell_type": "code",
   "execution_count": 33,
   "id": "044f5c86",
   "metadata": {},
   "outputs": [
    {
     "name": "stdout",
     "output_type": "stream",
     "text": [
      "{\n",
      "   \"date_time_objects\": [\n",
      "      {\n",
      "         \"date\": \"06/10/2023\",\n",
      "         \"pick_up_type\": \"Dropoff\",\n",
      "         \"time\": \"9:00 AM EST\"\n",
      "      },\n",
      "      {\n",
      "         \"date\": \"06/20/2023\",\n",
      "         \"pick_up_type\": \"Pickup\",\n",
      "         \"time\": \"4:00 PM EST\"\n",
      "      }\n",
      "   ]\n",
      "}\n"
     ]
    }
   ],
   "source": [
    "# To do nested objects you need to specify encoder_or_encoder_class=\"json\"\n",
    "text = \"Date/time Hardline will be dropped - 06/10/2023 9:00 AM EST, Date/time Event ended - 06/20/2023 4:00 PM EST\"\n",
    "# Changed the encoder to json\n",
    "chain = create_extraction_chain(llm, date_time_objects, encoder_or_encoder_class=\"json\")\n",
    "output = chain.predict_and_parse(text=text)['data']\n",
    "\n",
    "printOutput(output)"
   ]
  },
  {
   "cell_type": "code",
   "execution_count": 93,
   "id": "71b85a8f",
   "metadata": {},
   "outputs": [],
   "source": [
    "## hardware_items\n",
    "hardware_items = Object(\n",
    "    id=\"hardware_items\",\n",
    "    description=\"Information about hardwares\",\n",
    "    \n",
    "    # Notice I put multiple fields to pull out different attributes\n",
    "    attributes=[\n",
    "        Text(\n",
    "            id=\"item\",\n",
    "            description=\"Name of hardware\"\n",
    "        ),\n",
    "        Number(\n",
    "            id=\"quantity\",\n",
    "            description=\"quantity of hardware\"\n",
    "        )\n",
    "    ],\n",
    "    examples=[\n",
    "        (\n",
    "            \"Hardwares with Quantities as agreed upon are: iPad 9.7inch - 7, Stylish Aluminum Table Stand - 7\",\n",
    "            [\n",
    "                {\"item\": \"iPad 9.7inch\", \"quantity\" : 7},\n",
    "                {\"item\": \"Stylish Aluminum Table Stand\",  \"quantity\" : 7},\n",
    "            ],\n",
    "        )\n",
    "    ]\n",
    ")\n",
    "\n",
    "\n",
    "## staff_details\n",
    "staff_details = Object(\n",
    "    id=\"staff_details\",\n",
    "    description=\"Information about staff client & cvent\",\n",
    "    \n",
    "    # Notice I put multiple fields to pull out different attributes\n",
    "    attributes=[\n",
    "        Text(\n",
    "            id=\"staff_type\",\n",
    "            description=\"Staff type\"\n",
    "        ),\n",
    "        Text(\n",
    "            id=\"name\",\n",
    "            description=\"Name of staff\"\n",
    "        ),\n",
    "        Text(\n",
    "            id=\"number\",\n",
    "            description=\"contact number of staff\"\n",
    "        )\n",
    "    ],\n",
    "    examples=[\n",
    "        (\n",
    "            \"Cvent Staff is Abhishek Rai, Cvent Staff Number is +12344344, Client Staff is Pranavesh, Client Staff Number is +12344464\",\n",
    "            [\n",
    "                {'staff_type':'cvent','name': 'Abhishek Rai', 'number': '+12344344'},\n",
    "                {'staff_type':'client','name': 'Pranavesh', 'number': '+12344464'},\n",
    "            ],\n",
    "        )\n",
    "    ]\n",
    ")\n",
    "\n",
    "\n",
    "## Date time objects\n",
    "date_time_objects = Object(\n",
    "    id=\"date_time_objects\",\n",
    "    description=\"Information about pickup/drop date & times\",\n",
    "    \n",
    "    # Notice I put multiple fields to pull out different attributes\n",
    "    attributes=[\n",
    "        Text(\n",
    "            id=\"pick_up_type\",\n",
    "            description=\"Drop/pickup type\"\n",
    "        ),\n",
    "        Text(\n",
    "            id=\"date\",\n",
    "            description=\"Drop/pickup date\"\n",
    "        ),\n",
    "        Text(\n",
    "            id=\"time\",\n",
    "            description=\"Drop/pickup time\"\n",
    "        )\n",
    "    ],\n",
    "    examples=[\n",
    "        (\n",
    "            \"Date/time Hardline will be dropped - 06/10/2023 9:00 AM EST, Date/time Event ended - 06/20/2023 4:00 PM EST\",\n",
    "            [\n",
    "                {'pick_up_type':'Dropoff','date': '06/10/2023', 'time': '9:00 AM EST'},\n",
    "                {'pick_up_type':'Pickup','date': '06/20/2023', 'time': '4:00 PM EST'},\n",
    "            ],\n",
    "        )\n",
    "    ]\n",
    ")\n",
    "\n",
    "\n",
    "\n",
    "##final events schema\n",
    "final_events_schema = Object(\n",
    "    id=\"final_events_schema\",\n",
    "    description=\"information about event, date/time, staff type and hardware details\",\n",
    "    examples=[\n",
    "        (\n",
    "            \"Event Name is Cvent 2023 Test event,Date/time Hardline will be dropped - 06/10/2023 9:00 AM EST, Date/time Event ended - 06/20/2023 4:00 PM EST, Cvent Staff is Abhishek Rai, Cvent Staff Number is +123456344, Client Staff is Pranavesh, Client Staff Number is +12344464. Hardwares with Quantities as agreed upon are:iPad 9.7inch - 7, Stylish Aluminum Table Stand - 7\",\n",
    "            [\n",
    "                {\"event_name\": \"Cvent 2023 Test event\", \n",
    "                 \"date_time_objects\": [\n",
    "                     {\"date\": \"06/10/2023\",\"pick_up_type\": \"Dropoff\",\"time\": \"9:00 AM EST\"},\n",
    "                     {\"date\": \"06/20/2023\",\"pick_up_type\": \"Pickup\",\"time\": \"4:00 PM EST\"}],\n",
    "                 \"staff_details\": [{\"name\": \"Abhishek Rai\",\"number\": \"+12344344\",\"staff_type\": \"cvent\"},\n",
    "                                   {\"name\": \"Pranavesh\",\"number\": \"+12344464\",\"staff_type\": \"client\"}],\n",
    "                 \"hardware_items\": [{\"item\": \"Macbook 14inch\",\"quantity\": 7},\n",
    "                                    {\"item\": \"Stylish BrassN Table Stand\",\"quantity\": 7}]\n",
    "                }\n",
    "            ],\n",
    "        )\n",
    "    ],\n",
    "    attributes=[\n",
    "        Text(\n",
    "            id=\"event_name\",\n",
    "            description=\"Name of the onsite event\"\n",
    "        ),\n",
    "        date_time_objects,\n",
    "        staff_details,\n",
    "        hardware_items\n",
    "    ]\n",
    ")"
   ]
  },
  {
   "cell_type": "code",
   "execution_count": 94,
   "id": "56cda7ff",
   "metadata": {},
   "outputs": [
    {
     "name": "stdout",
     "output_type": "stream",
     "text": [
      "{\n",
      "   \"final_events_schema\": {\n",
      "      \"event_name\": \"Cvent CCW 2023v2 event\",\n",
      "      \"date_time_objects\": [\n",
      "         {\n",
      "            \"pick_up_type\": \"Dropoff\",\n",
      "            \"date\": \"01/01/2023\",\n",
      "            \"time\": \"12:02 PM EST\"\n",
      "         },\n",
      "         {\n",
      "            \"pick_up_type\": \"Pickup\",\n",
      "            \"date\": \"01/07/2023\",\n",
      "            \"time\": \"8:00 PM EST\"\n",
      "         }\n",
      "      ],\n",
      "      \"staff_details\": [\n",
      "         {\n",
      "            \"staff_type\": \"cvent\",\n",
      "            \"name\": \"Dave Chatterjee\",\n",
      "            \"number\": \"+123151515\"\n",
      "         },\n",
      "         {\n",
      "            \"staff_type\": \"client\",\n",
      "            \"name\": \"Pranavesh Ramachandran\",\n",
      "            \"number\": \"+121111164464\"\n",
      "         }\n",
      "      ],\n",
      "      \"hardware_items\": [\n",
      "         {\n",
      "            \"item\": \"iPad 9.7inch\",\n",
      "            \"quantity\": 10\n",
      "         },\n",
      "         {\n",
      "            \"item\": \"Stylish Aluminum Table Stand\",\n",
      "            \"quantity\": 17\n",
      "         },\n",
      "         {\n",
      "            \"item\": \"Network Cable (15 - 20 Feet)\",\n",
      "            \"quantity\": 20\n",
      "         },\n",
      "         {\n",
      "            \"item\": \"Registration Wireless Router\",\n",
      "            \"quantity\": 22\n",
      "         },\n",
      "         {\n",
      "            \"item\": \"Network Cable (6 Feet)\",\n",
      "            \"quantity\": 38\n",
      "         },\n",
      "         {\n",
      "            \"item\": \"Network Cable (50 Feet)\",\n",
      "            \"quantity\": 28\n",
      "         }\n",
      "      ]\n",
      "   }\n",
      "}\n"
     ]
    }
   ],
   "source": [
    "# To do nested objects you need to specify encoder_or_encoder_class=\"json\"\n",
    "text = \"Event Name is Cvent CCW 2023v2 event,Date/time Hardline will be dropped - 01/01/2023 12:02 PM EST, Date/time Event ended - 01/07/2023 8:00 PM EST, Cvent Staff is Dave Chatterjee, Cvent Staff Number is +123151515, Client Staff is Pranavesh Ramachandran, Client Staff Number is +121111164464. Hardwares with Quantities as agreed upon are: iPad 9.7inch - 10, Stylish Aluminum Table Stand - 17, Network Cable (15 - 20 Feet) - 20, Registration Wireless Router - 22, Network Cable (15 - 20 Feet) - 32, Network Cable (6 Feet) - 38, Network Cable (15 - 20 Feet) - 20, Network Cable (50 Feet) - 28\"\n",
    "\n",
    "# Changed the encoder to json\n",
    "chain = create_extraction_chain(llm, final_events_schema, encoder_or_encoder_class=\"json\")\n",
    "output = chain.predict_and_parse(text=text)['data']\n",
    "\n",
    "printOutput(output)"
   ]
  },
  {
   "cell_type": "code",
   "execution_count": 38,
   "id": "e617969f",
   "metadata": {},
   "outputs": [],
   "source": [
    "json_output = chain.predict_and_parse(text=text)\n"
   ]
  },
  {
   "cell_type": "code",
   "execution_count": 89,
   "id": "c826a485",
   "metadata": {},
   "outputs": [
    {
     "data": {
      "text/plain": [
       "dict_keys(['event_name', 'date_time_objects', 'staff_details', 'hardware_items'])"
      ]
     },
     "execution_count": 89,
     "metadata": {},
     "output_type": "execute_result"
    }
   ],
   "source": [
    "output['data']['final_events_schema'].keys()"
   ]
  },
  {
   "cell_type": "code",
   "execution_count": 90,
   "id": "2f3112c8",
   "metadata": {},
   "outputs": [
    {
     "data": {
      "text/plain": [
       "'Cvent CCW 2023v2 event'"
      ]
     },
     "execution_count": 90,
     "metadata": {},
     "output_type": "execute_result"
    }
   ],
   "source": [
    "output['data']['final_events_schema']['event_name']"
   ]
  },
  {
   "cell_type": "code",
   "execution_count": 91,
   "id": "dd7dbc36",
   "metadata": {},
   "outputs": [
    {
     "data": {
      "text/plain": [
       "[{'pick_up_type': 'Dropoff', 'date': '01/01/2023', 'time': '12:02 PM EST'},\n",
       " {'pick_up_type': 'Pickup', 'date': '01/07/2023', 'time': '8:00 PM EST'}]"
      ]
     },
     "execution_count": 91,
     "metadata": {},
     "output_type": "execute_result"
    }
   ],
   "source": [
    "output['data']['final_events_schema']['date_time_objects']"
   ]
  },
  {
   "cell_type": "code",
   "execution_count": null,
   "id": "8210ab3a",
   "metadata": {},
   "outputs": [],
   "source": []
  },
  {
   "cell_type": "code",
   "execution_count": null,
   "id": "7c861132",
   "metadata": {},
   "outputs": [],
   "source": []
  }
 ],
 "metadata": {
  "kernelspec": {
   "display_name": "Python 3 (ipykernel)",
   "language": "python",
   "name": "python3"
  },
  "language_info": {
   "codemirror_mode": {
    "name": "ipython",
    "version": 3
   },
   "file_extension": ".py",
   "mimetype": "text/x-python",
   "name": "python",
   "nbconvert_exporter": "python",
   "pygments_lexer": "ipython3",
   "version": "3.10.9"
  }
 },
 "nbformat": 4,
 "nbformat_minor": 5
}
